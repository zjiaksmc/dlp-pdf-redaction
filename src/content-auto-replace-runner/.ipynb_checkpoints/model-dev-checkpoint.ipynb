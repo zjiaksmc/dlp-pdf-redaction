{
 "cells": [
  {
   "cell_type": "markdown",
   "metadata": {},
   "source": [
    "# Prepare examples for prompt engineering"
   ]
  },
  {
   "cell_type": "code",
   "execution_count": null,
   "metadata": {},
   "outputs": [],
   "source": [
    "!pip install fsspec\n",
    "!pip install Pillow"
   ]
  },
  {
   "cell_type": "code",
   "execution_count": null,
   "metadata": {},
   "outputs": [],
   "source": [
    "import fsspec \n",
    "fs, _ = fsspec.url_to_fs(\"gs://\")\n",
    "image_data = fs.cat_file(gt_file, content_type=\"application/json\")\n",
    "\n",
    "# Shows the image in image viewer\n",
    "im1.show()"
   ]
  },
  {
   "cell_type": "code",
   "execution_count": 97,
   "metadata": {},
   "outputs": [],
   "source": [
    "import vertexai\n",
    "from vertexai.language_models import TextGenerationModel\n",
    "\n",
    "vertexai.init(project=\"generative-ai-demo-398901\", location=\"us-central1\")\n",
    "parameters = {\n",
    "    # \"candidate_count\": 1,\n",
    "    \"max_output_tokens\": 256,\n",
    "    \"temperature\": 1,\n",
    "    \"top_p\": 1,\n",
    "    \"top_k\": 40\n",
    "}\n",
    "model = TextGenerationModel.from_pretrained(\"text-bison@001\")\n",
    "prompt_structure = \"\"\"\n",
    "    you generate content with the same type that user request.\n",
    "    you generate a random content even if user ask the same question.\n",
    "    your response must be in English or Latin.\n",
    "\n",
    "    input: generate a random LAST_NAME that is different than Smith\n",
    "    output: Simon\n",
    "\n",
    "    input: generate a random PERSON_NAME that is different than Horton\n",
    "    output: Holcomb\n",
    "\n",
    "    input: generate a random FIRST_NAME that is different than Julie\n",
    "    output: Lily\n",
    "\n",
    "    input: generate a random SOCIAL_SECURITY_NUMBER that is different than 123-24-2394\n",
    "    output: 233-09-1931\n",
    "    \n",
    "    input: generate a random LOCATION that is different than Indianapolis\n",
    "    output: New York\n",
    "    \n",
    "    input: generate a random COUNTRY_DEMOGRAPHIC that is different than United States\n",
    "    output: United Kingdom\n",
    "    \n",
    "    input: generate a random COUNTRY_DEMOGRAPHIC that is different than US\n",
    "    output: UK\n",
    "    \n",
    "    input: generate a random DATE_OF_BIRTH that is different than MAY 6, 1980\n",
    "    output: JUN 8, 1997\n",
    "    \n",
    "    input: generate a random US_INDIVIDUAL_TAXPAYER_IDENTIFICATION_NUMBER that is different than 989-12-1290. Must start with 9\n",
    "    output: 901-39-9871\n",
    "    \n",
    "    input: generate a random US_EMPLOYER_IDENTIFICATION_NUMBER that is different than 78-9320193. Very possible start with 0\n",
    "    output: 00-2931831\n",
    "    \n",
    "    input: generate a random US_STATE that is different than NY. The output must be a valid abbreviations.\n",
    "    output: MI\n",
    "\n",
    "    input: generate a random {} that is different than {}\n",
    "    output:\n",
    "\"\"\"\n"
   ]
  },
  {
   "cell_type": "code",
   "execution_count": 101,
   "metadata": {},
   "outputs": [
    {
     "name": "stdout",
     "output_type": "stream",
     "text": [
      "field_replace_value: PA\n"
     ]
    }
   ],
   "source": [
    "field_name = \"US_STATE\"\n",
    "field_value = \"NY\"\n",
    "response = model.predict(\n",
    "    prompt_structure.format(field_name, field_value), \n",
    "    **parameters\n",
    ")\n",
    "field_replace_value = response.text\n",
    "print(f\"field_replace_value: {field_replace_value}\")"
   ]
  },
  {
   "cell_type": "markdown",
   "metadata": {},
   "source": [
    "# Prepare examples for fine-tune model"
   ]
  },
  {
   "cell_type": "markdown",
   "metadata": {},
   "source": []
  }
 ],
 "metadata": {
  "environment": {
   "kernel": "python3",
   "name": "tf2-gpu.2-11.m111",
   "type": "gcloud",
   "uri": "gcr.io/deeplearning-platform-release/tf2-gpu.2-11:m111"
  },
  "kernelspec": {
   "display_name": "Python 3",
   "language": "python",
   "name": "python3"
  },
  "language_info": {
   "codemirror_mode": {
    "name": "ipython",
    "version": 3
   },
   "file_extension": ".py",
   "mimetype": "text/x-python",
   "name": "python",
   "nbconvert_exporter": "python",
   "pygments_lexer": "ipython3",
   "version": "3.10.12"
  }
 },
 "nbformat": 4,
 "nbformat_minor": 4
}
